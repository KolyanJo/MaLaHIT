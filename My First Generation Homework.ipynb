{
  "nbformat": 4,
  "nbformat_minor": 0,
  "metadata": {
    "colab": {
      "name": "Untitled0.ipynb",
      "provenance": [],
      "toc_visible": true
    },
    "kernelspec": {
      "name": "python3",
      "display_name": "Python 3"
    }
  },
  "cells": [
    {
      "cell_type": "code",
      "metadata": {
        "colab": {
          "base_uri": "https://localhost:8080/"
        },
        "id": "4aFDUNTAGxb1",
        "outputId": "f2c74e02-625d-45cc-8df3-f7cd7fbcd7ef"
      },
      "source": [
        "pip install markovify"
      ],
      "execution_count": 1,
      "outputs": [
        {
          "output_type": "stream",
          "text": [
            "Collecting markovify\n",
            "  Downloading https://files.pythonhosted.org/packages/33/92/4036691c7ea53e545e98e0ffffcef357ca19aa2405df366ae5b8b7da391a/markovify-0.8.3.tar.gz\n",
            "Collecting unidecode\n",
            "\u001b[?25l  Downloading https://files.pythonhosted.org/packages/74/65/91eab655041e9e92f948cb7302e54962035762ce7b518272ed9d6b269e93/Unidecode-1.1.2-py2.py3-none-any.whl (239kB)\n",
            "\u001b[K     |████████████████████████████████| 245kB 7.3MB/s \n",
            "\u001b[?25hBuilding wheels for collected packages: markovify\n",
            "  Building wheel for markovify (setup.py) ... \u001b[?25l\u001b[?25hdone\n",
            "  Created wheel for markovify: filename=markovify-0.8.3-cp36-none-any.whl size=18415 sha256=387202e20e14ccc802e3cc1d311a58384f687720885f13c8d5d342d8f4321bc3\n",
            "  Stored in directory: /root/.cache/pip/wheels/5e/e5/be/8e61715070048813947af5fb32f47b4cf9dddd37c965800bdb\n",
            "Successfully built markovify\n",
            "Installing collected packages: unidecode, markovify\n",
            "Successfully installed markovify-0.8.3 unidecode-1.1.2\n"
          ],
          "name": "stdout"
        }
      ]
    },
    {
      "cell_type": "code",
      "metadata": {
        "id": "w7nXgqZ2Hbuo"
      },
      "source": [
        "import markovify"
      ],
      "execution_count": 2,
      "outputs": []
    },
    {
      "cell_type": "code",
      "metadata": {
        "colab": {
          "base_uri": "https://localhost:8080/"
        },
        "id": "t7trsQ3fHjq2",
        "outputId": "fb23d2f5-a52c-4c8b-a653-88a8fd6b771c"
      },
      "source": [
        "from google.colab import drive\r\n",
        "drive.mount('/content/drive')"
      ],
      "execution_count": 5,
      "outputs": [
        {
          "output_type": "stream",
          "text": [
            "Mounted at /content/drive\n"
          ],
          "name": "stdout"
        }
      ]
    },
    {
      "cell_type": "code",
      "metadata": {
        "id": "f-ub7GAkJk4f"
      },
      "source": [
        "with open(\"/content/drive/MyDrive/traintext.txt\") as f:\r\n",
        "    text = f.read()"
      ],
      "execution_count": 7,
      "outputs": []
    },
    {
      "cell_type": "code",
      "metadata": {
        "id": "BEqXCVUiKwdq"
      },
      "source": [
        "text_model = markovify.Text(text)"
      ],
      "execution_count": 14,
      "outputs": []
    },
    {
      "cell_type": "code",
      "metadata": {
        "colab": {
          "base_uri": "https://localhost:8080/"
        },
        "id": "m0EnEWaoK3JY",
        "outputId": "def6d0f3-54d8-4360-a663-a6cad9513da9"
      },
      "source": [
        "for i in range(5):\r\n",
        "    print(text_model.make_sentence())"
      ],
      "execution_count": 21,
      "outputs": [
        {
          "output_type": "stream",
          "text": [
            "In the final stage, transparent layers of pure European linen of strong close weave.\n",
            "Varnishing also brings the tonal depth and colour intensity virtually to the forms, and highlights were defined with thick, textured patches of paint called impastos.\n",
            "In the final stage, transparent layers of pure European linen of strong close weave.\n",
            "The practice of easel painting with oil colours, a medium consisting of pigments suspended in drying oils.\n",
            "At first, oil paints and varnishes were used to impart luminosity, depth, and brilliance to the desired size and stretched over a frame, usually wooden, to which it is unsurpassed for textural variation.\n"
          ],
          "name": "stdout"
        }
      ]
    },
    {
      "cell_type": "markdown",
      "metadata": {
        "id": "fxXMUNCIKjnA"
      },
      "source": [
        "# Новый раздел"
      ]
    }
  ]
}